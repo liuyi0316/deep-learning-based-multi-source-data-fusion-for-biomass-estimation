{
 "cells": [
  {
   "cell_type": "code",
   "execution_count": null,
   "id": "b26e7e8e-4544-4100-b282-333411593bf3",
   "metadata": {},
   "outputs": [],
   "source": [
    "import os\n",
    "\n",
    "import tensorflow as tf\n",
    "\n",
    "from tensorflow import keras\n",
    "\n",
    "#import keras,os\n",
    "#from keras.preprocessing.image import ImageDataGenerator\n",
    "import numpy as np\n",
    "from tensorflow.keras import layers, models\n",
    "from tensorflow.keras.layers import Input, Conv2D, MaxPooling2D\n",
    "from tensorflow.keras.models import Model"
   ]
  },
  {
   "cell_type": "code",
   "execution_count": null,
   "id": "92352a3e-bb1f-4b2d-aded-cbcafcab29e3",
   "metadata": {},
   "outputs": [],
   "source": [
    "def vgg16_20(input_shape=(112,112,6)): #sentinel-2 20m\n",
    "    # 定义输入\n",
    "    inputs = Input(shape=input_shape)\n",
    "\n",
    "    # 第一个卷积块\n",
    "    x = Conv2D(filters=64, kernel_size=(3, 3), padding='same', activation='relu')(inputs)\n",
    "    x = Conv2D(filters=64, kernel_size=(3, 3), padding='same', activation='relu')(x)\n",
    "    \n",
    "    return inputs,x"
   ]
  }
 ],
 "metadata": {
  "kernelspec": {
   "display_name": "Python",
   "language": "python",
   "name": "python3"
  },
  "language_info": {
   "codemirror_mode": {
    "name": "ipython",
    "version": 3
   },
   "file_extension": ".py",
   "mimetype": "text/x-python",
   "name": "python",
   "nbconvert_exporter": "python",
   "pygments_lexer": "ipython3",
   "version": "3.8.10"
  }
 },
 "nbformat": 4,
 "nbformat_minor": 5
}
