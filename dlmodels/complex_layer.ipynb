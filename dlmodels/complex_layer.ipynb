{
 "cells": [
  {
   "cell_type": "code",
   "execution_count": null,
   "id": "95d44d38-f74d-48fe-abed-4cb6900820a1",
   "metadata": {},
   "outputs": [],
   "source": [
    "import tensorflow as tf\n",
    "from tensorflow.keras import layers"
   ]
  },
  {
   "cell_type": "code",
   "execution_count": null,
   "id": "54f2d20f-34c0-4c6c-b39d-6e0dd581257b",
   "metadata": {},
   "outputs": [],
   "source": [
    "class CConv2D(layers.Layer):\n",
    "    def __init__(self, out_channels, kernel_size, stride, padding, **kwargs):\n",
    "        super(CConv2D, self).__init__(**kwargs)\n",
    "        self.out_channels = out_channels\n",
    "        self.kernel_size = kernel_size\n",
    "        self.stride = stride\n",
    "        self.padding = padding\n",
    "\n",
    "        self.re_conv = layers.Conv2D(filters=out_channels, kernel_size=kernel_size, \n",
    "                                     strides=stride, padding=padding, use_bias=False)\n",
    "        self.im_conv = layers.Conv2D(filters=out_channels, kernel_size=kernel_size, \n",
    "                                     strides=stride, padding=padding, use_bias=False)\n",
    "\n",
    "    def build(self, input_shape):\n",
    "        # Initialize weights\n",
    "        self.re_conv.build(input_shape)\n",
    "        self.im_conv.build(input_shape)\n",
    "        self.re_conv.kernel.assign(tf.keras.initializers.GlorotUniform()(self.re_conv.kernel.shape))\n",
    "        self.im_conv.kernel.assign(tf.keras.initializers.GlorotUniform()(self.im_conv.kernel.shape))\n",
    "\n",
    "    def call(self, inputs):\n",
    "        # Assuming the input is in the format [batch, height, width, channels, 2]\n",
    "        x_re = inputs[..., 0]\n",
    "        x_im = inputs[..., 1]\n",
    "\n",
    "        out_re = self.re_conv(x_re) - self.im_conv(x_im)\n",
    "        out_im = self.re_conv(x_im) + self.im_conv(x_re)\n",
    "\n",
    "        out = tf.stack([out_re, out_im], axis=-1)\n",
    "        return out\n"
   ]
  },
  {
   "cell_type": "code",
   "execution_count": null,
   "id": "174acb93-028b-495f-a0da-5b90be93b6a0",
   "metadata": {},
   "outputs": [],
   "source": [
    "class CBatchNorm(layers.Layer):\n",
    "    def __init__(self, in_channels, **kwargs):\n",
    "        super(CBatchNorm, self).__init__(**kwargs)\n",
    "        self.in_channels = in_channels\n",
    "\n",
    "        # 创建实部和虚部的批量标准化层\n",
    "        self.re_batch = layers.BatchNormalization()\n",
    "        self.im_batch = layers.BatchNormalization()\n",
    "\n",
    "    def call(self, inputs):\n",
    "        # 假设输入是 [batch, height, width, channels, 2] 格式，最后一个维度是复数的实部和虚部\n",
    "        x_re = inputs[..., 0]\n",
    "        x_im = inputs[..., 1]\n",
    "\n",
    "        # 分别对实部和虚部进行批量标准化\n",
    "        out_re = self.re_batch(x_re)\n",
    "        out_im = self.im_batch(x_im)\n",
    "\n",
    "        # 将处理过的实部和虚部重新堆叠\n",
    "        out = tf.stack([out_re, out_im], axis=-1)\n",
    "\n",
    "        return out"
   ]
  },
  {
   "cell_type": "code",
   "execution_count": null,
   "id": "9ac6316e-9d42-490c-8f99-9de8d75bfc87",
   "metadata": {},
   "outputs": [],
   "source": [
    "class CMaxPool2D(layers.Layer):\n",
    "    def __init__(self, kernel_size, **kwargs):\n",
    "        super(CMaxPool2D, self).__init__(**kwargs)\n",
    "        self.kernel_size = kernel_size\n",
    "\n",
    "        # 创建实部和虚部的最大池化层\n",
    "        self.CMax_re = layers.MaxPooling2D(pool_size=kernel_size, **kwargs)\n",
    "        self.CMax_im = layers.MaxPooling2D(pool_size=kernel_size, **kwargs)\n",
    "\n",
    "    def call(self, inputs):\n",
    "        # 假设输入是 [batch, height, width, channels, 2] 格式，最后一个维度是复数的实部和虚部\n",
    "        x_re = inputs[..., 0]\n",
    "        x_im = inputs[..., 1]\n",
    "\n",
    "        # 分别对实部和虚部进行最大池化\n",
    "        out_re = self.CMax_re(x_re)\n",
    "        out_im = self.CMax_im(x_im)\n",
    "\n",
    "        # 将处理过的实部和虚部重新堆叠\n",
    "        out = tf.stack([out_re, out_im], axis=-1)\n",
    "\n",
    "        return out"
   ]
  },
  {
   "cell_type": "code",
   "execution_count": null,
   "id": "a43e5e32-51da-4c4b-87e0-82e26537151a",
   "metadata": {},
   "outputs": [],
   "source": [
    "class MagnitudeOperation(layers.Layer):\n",
    "    def __init__(self, **kwargs):\n",
    "        super(MagnitudeOperation, self).__init__(**kwargs)\n",
    "\n",
    "    def call(self, inputs):\n",
    "        # 假设输入的最后一个维度为2，代表复数的实部和虚部\n",
    "        real_part = inputs[..., 0]\n",
    "        imag_part = inputs[..., 1]\n",
    "        magnitude = tf.sqrt(tf.square(real_part) + tf.square(imag_part))\n",
    "        return magnitude\n"
   ]
  }
 ],
 "metadata": {
  "kernelspec": {
   "display_name": "Python",
   "language": "python",
   "name": "python3"
  },
  "language_info": {
   "codemirror_mode": {
    "name": "ipython",
    "version": 3
   },
   "file_extension": ".py",
   "mimetype": "text/x-python",
   "name": "python",
   "nbconvert_exporter": "python",
   "pygments_lexer": "ipython3",
   "version": "3.8.10"
  }
 },
 "nbformat": 4,
 "nbformat_minor": 5
}
