{
 "cells": [
  {
   "cell_type": "code",
   "execution_count": null,
   "id": "563d9204-d6a5-45a4-981a-c8099f416796",
   "metadata": {},
   "outputs": [],
   "source": [
    "import keras,os\n",
    "from keras.preprocessing.image import ImageDataGenerator\n",
    "import numpy as np\n",
    "from tensorflow.keras import layers, models\n",
    "from tensorflow.keras.layers import Input, Conv2D, Conv2DTranspose\n",
    "from tensorflow.keras.models import Model\n",
    "from tensorflow.keras.losses import MeanSquaredError"
   ]
  },
  {
   "cell_type": "code",
   "execution_count": null,
   "id": "a5c8acc0-9a8a-4fdd-9da6-49bca42887fb",
   "metadata": {},
   "outputs": [],
   "source": [
    "import dlmodels"
   ]
  },
  {
   "cell_type": "code",
   "execution_count": null,
   "id": "d48195b9-b502-46ff-ab0c-d50ddfe8db7a",
   "metadata": {},
   "outputs": [],
   "source": [
    "def fusion(sentinel_1,sentinel_2,GEDI):\n",
    "    \n",
    "    merge = layers.concatenate([sentinel_1,sentinel_2,GEDI])\n",
    "    \n",
    "    # fusion\n",
    "    x = Conv2D(filters=128, kernel_size=(3, 3), padding='same', activation='relu')(merge)\n",
    "    x = Conv2D(filters=128, kernel_size=(3, 3), padding='same', activation='relu')(x)\n",
    "    x = Conv2D(filters=128, kernel_size=(3, 3), padding='same', activation='relu')(x)\n",
    "    x = Conv2D(filters=64, kernel_size=(3, 3), padding='same', activation='relu')(x)\n",
    "    x = Conv2D(filters=32, kernel_size=(3, 3), padding='same', activation='relu')(x)\n",
    "    \n",
    "    return x\n",
    "    "
   ]
  },
  {
   "cell_type": "code",
   "execution_count": null,
   "id": "4f4338e0-6a6a-4823-b568-57ef5da675e0",
   "metadata": {},
   "outputs": [],
   "source": [
    "####task1: 14x14------>9x9\n",
    "####task2: 14x14------>28x28------>23x23"
   ]
  },
  {
   "cell_type": "code",
   "execution_count": null,
   "id": "0d8a70be-8976-464b-b2f3-2a61054c775e",
   "metadata": {},
   "outputs": [],
   "source": [
    "def task(input_shape):\n",
    "    inputs = layers.Input(input_shape)\n",
    "    ####after convolution try it\n",
    "    x = Conv2D(filters=32, kernel_size=(6, 6), padding='valid', activation='relu')(inputs)\n",
    "    output_250 = Conv2D(filters=1, kernel_size=(3, 3), padding='same', activation='linear')(x)\n",
    "\n",
    "   \n",
    "    \n",
    "    ######upsample###\n",
    "    y = Conv2DTranspose(filters=32, kernel_size=(3, 3), strides=(2, 2), padding='same')(inputs)\n",
    "    y = Conv2D(filters=32, kernel_size=(6, 6), padding='valid', activation='relu')(y)\n",
    "    output_100 = Conv2D(filters=1, kernel_size=(3, 3), padding='same', activation='linear')(y)\n",
    "    \n",
    "    \n",
    "    model = Model(inputs=inputs, outputs=[output_250, output_100])\n",
    "    \n",
    "    return model\n"
   ]
  },
  {
   "cell_type": "code",
   "execution_count": null,
   "id": "7e6d49df-ce2b-4a67-865c-a12c8b5f9b06",
   "metadata": {},
   "outputs": [],
   "source": [
    "def create_model(input_shape_s1, input_shape_s10,input_shape_s20, input_shape_gedi):\n",
    "    # 创建编码器\n",
    "    sentinel_1_model = dlmodels.complex_vgg(input_shape=input_shape_s1)\n",
    "    sentinel_2_model = dlmodels.vgg16(input_shape_s10, input_shape_s20)\n",
    "    gedi_model = dlmodels.vgg16_gedi(input_shape=input_shape_gedi)\n",
    "\n",
    "    # 获取编码器的输出\n",
    "    input_s1, output_s1 = sentinel_1_model.output\n",
    "    input_s10,input_s20,output_s2 = sentinel_2_model.output\n",
    "    input_gedi, output_gedi = gedi_model.output\n",
    "\n",
    "    # 融合编码器输出\n",
    "    fusion_output = fusion(output_s1, output_s2, output_gedi)\n",
    "\n",
    "    # 为任务创建输出\n",
    "    output_250, output_100 = task(fusion_output)\n",
    "\n",
    "    # 定义完整模型\n",
    "    model = models.Model(inputs=[input_s1, input_s10, input_s20, input_gedi], \n",
    "                         outputs=[output_250, output_100])\n",
    "\n",
    "    return model"
   ]
  },
  {
   "cell_type": "code",
   "execution_count": null,
   "id": "abeeb4f1-bc5b-4429-a397-08c1f613117c",
   "metadata": {},
   "outputs": [],
   "source": []
  }
 ],
 "metadata": {
  "kernelspec": {
   "display_name": "Python",
   "language": "python",
   "name": "python3"
  },
  "language_info": {
   "codemirror_mode": {
    "name": "ipython",
    "version": 3
   },
   "file_extension": ".py",
   "mimetype": "text/x-python",
   "name": "python",
   "nbconvert_exporter": "python",
   "pygments_lexer": "ipython3",
   "version": "3.8.10"
  }
 },
 "nbformat": 4,
 "nbformat_minor": 5
}
