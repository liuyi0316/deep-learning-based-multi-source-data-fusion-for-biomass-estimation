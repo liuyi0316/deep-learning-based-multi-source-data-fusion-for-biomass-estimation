{
 "cells": [
  {
   "cell_type": "code",
   "execution_count": null,
   "id": "563d9204-d6a5-45a4-981a-c8099f416796",
   "metadata": {},
   "outputs": [],
   "source": [
    "import keras,os\n",
    "from keras.preprocessing.image import ImageDataGenerator\n",
    "import numpy as np\n",
    "from tensorflow.keras import layers, models\n",
    "from tensorflow.keras.layers import Input, Conv2D, MaxPooling2D\n",
    "from tensorflow.keras.models import Model\n",
    "from tensorflow.keras.losses import MeanSquaredError"
   ]
  },
  {
   "cell_type": "code",
   "execution_count": null,
   "id": "a5c8acc0-9a8a-4fdd-9da6-49bca42887fb",
   "metadata": {},
   "outputs": [],
   "source": [
    "import dlmodels"
   ]
  },
  {
   "cell_type": "code",
   "execution_count": null,
   "id": "05eaafe2-3f7b-4177-afa4-b855f8865f12",
   "metadata": {},
   "outputs": [],
   "source": [
    "################sar\n",
    "sentinel_1 = dlmodels.complex_vgg()\n",
    "sentinel_2 = dlmodels.vgg16()\n",
    "GEDI = dlmodels.vgg16_gedi()"
   ]
  },
  {
   "cell_type": "code",
   "execution_count": null,
   "id": "d48195b9-b502-46ff-ab0c-d50ddfe8db7a",
   "metadata": {},
   "outputs": [],
   "source": [
    "def fusion(sentinel_1,sentinel_2,GEDI):\n",
    "    \n",
    "    merge = layers.concatenate([sentinel_1,sentinel_2,GEDI])\n",
    "    \n",
    "    # fusion\n",
    "    x = Conv2D(filters=128, kernel_size=(3, 3), padding='same', activation='relu')(merge)\n",
    "    x = Conv2D(filters=128, kernel_size=(3, 3), padding='same', activation='relu')(x)\n",
    "    \n",
    "    return x\n",
    "    "
   ]
  },
  {
   "cell_type": "code",
   "execution_count": null,
   "id": "ab72fed6-5967-4bac-ace4-b74832e49f4c",
   "metadata": {},
   "outputs": [],
   "source": [
    "fusion_feature = fusion(sentinel_1,sentinel_2,GEDI)"
   ]
  },
  {
   "cell_type": "code",
   "execution_count": null,
   "id": "0d8a70be-8976-464b-b2f3-2a61054c775e",
   "metadata": {},
   "outputs": [],
   "source": [
    "def task(input_shape):\n",
    "    inputs = layers.Input(input_shape)\n",
    "    x = Conv2D(filters=128, kernel_size=(3, 3), padding='same', activation='relu')(inputs)\n",
    "    x = Conv2D(filters=64, kernel_size=(3, 3), padding='same', activation='relu')(x)\n",
    "    x = Conv2D(filters=32, kernel_size=(3, 3), padding='same', activation='relu')(x)\n",
    "    output_250 = Conv2D(filters=1, kernel_size=(3, 3), padding='same', activation='linear')(x)\n",
    "\n",
    "   \n",
    "    \n",
    "    ######upsample###\n",
    "    y= upsample()(inputs)\n",
    "    output_100 = Conv2D(filters=1, kernel_size=(3, 3), padding='same', activation='linear')(y)\n",
    "    \n",
    "    \n",
    "    model = output.Model(inputs=inputs, outputs=[output_250, output_100])\n",
    "    \n",
    "    return model\n"
   ]
  },
  {
   "cell_type": "code",
   "execution_count": null,
   "id": "abeeb4f1-bc5b-4429-a397-08c1f613117c",
   "metadata": {},
   "outputs": [],
   "source": [
    "output = task(fusion_features)\n",
    "losses = {\n",
    "    'output_250': 'mean_squared_error',\n",
    "    'output_100': 'mean_squared_error'\n",
    "}\n",
    "\n",
    "# 设置损失权重\n",
    "loss_weights = {\n",
    "    'output_250': 0.5,  # task250的损失权重\n",
    "    'output_100': 0.5   # task100的损失权重\n",
    "}\n",
    "\n",
    "output.compile(optimizer='adam', loss=losses, loss_weights=loss_weights)\n",
    "#output.fit([sar,optical,gedi],[out250,out100])"
   ]
  }
 ],
 "metadata": {
  "kernelspec": {
   "display_name": "Python",
   "language": "python",
   "name": "python3"
  },
  "language_info": {
   "codemirror_mode": {
    "name": "ipython",
    "version": 3
   },
   "file_extension": ".py",
   "mimetype": "text/x-python",
   "name": "python",
   "nbconvert_exporter": "python",
   "pygments_lexer": "ipython3",
   "version": "3.8.10"
  }
 },
 "nbformat": 4,
 "nbformat_minor": 5
}
